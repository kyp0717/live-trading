{
 "cells": [
  {
   "cell_type": "markdown",
   "metadata": {},
   "source": [
    "## Display to HTML"
   ]
  },
  {
   "cell_type": "code",
   "execution_count": 1,
   "metadata": {},
   "outputs": [],
   "source": [
    "## generate the html file\n",
    "from jinja2 import Environment\n",
    "from jinja2 import FileSystemLoader\n",
    "import os\n",
    "import datetime\n",
    "\n",
    "TEMPLATE_NAME = 'index.html'\n",
    "OUTPUT_FILE_NAME = 'index_output.html'\n",
    "env = Environment(loader=FileSystemLoader('templates'))\n",
    "\n",
    "def build_path(suffix):\n",
    "    # Build the full file path based on our current directory\n",
    "    current_directory = os.getcwd()\n",
    "    return os.path.join(current_directory, suffix)\n",
    "\n",
    "\n",
    "template = env.get_template(TEMPLATE_NAME)\n",
    "with open(build_path('public/%s' % OUTPUT_FILE_NAME), 'w') as html_file:\n",
    "    html = template.render(\n",
    "        utc_dt=datetime.datetime.now(datetime.timezone.utc)\n",
    "    )\n",
    "    # Write the rendered template to the html file\n",
    "    html_file.write(html)\n"
   ]
  },
  {
   "cell_type": "code",
   "execution_count": null,
   "metadata": {},
   "outputs": [],
   "source": [
    "from IPython.display import HTML, display\n",
    "def css_styling():\n",
    "    styles = open(\"./styles.css\", \"r\").read()\n",
    "    return HTML(styles)\n",
    "css_styling()\n",
    "# display(HTML(filename=\"./public/index_output.html\"))\n",
    "HTML(filename=\"./public/index_output.html\")"
   ]
  }
 ],
 "metadata": {
  "kernelspec": {
   "display_name": "aiagent",
   "language": "python",
   "name": "python3"
  },
  "language_info": {
   "codemirror_mode": {
    "name": "ipython",
    "version": 3
   },
   "file_extension": ".py",
   "mimetype": "text/x-python",
   "name": "python",
   "nbconvert_exporter": "python",
   "pygments_lexer": "ipython3",
   "version": "3.13.1"
  }
 },
 "nbformat": 4,
 "nbformat_minor": 2
}
