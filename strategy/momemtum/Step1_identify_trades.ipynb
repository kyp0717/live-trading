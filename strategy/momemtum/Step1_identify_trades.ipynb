{
 "cells": [
  {
   "cell_type": "code",
   "execution_count": 1,
   "metadata": {},
   "outputs": [],
   "source": [
    "import yfinance as yf\n",
    "import pandas as pd\n",
    "import numpy as np\n",
    "import matplotlib.pyplot as plt"
   ]
  },
  {
   "cell_type": "code",
   "execution_count": null,
   "metadata": {},
   "outputs": [],
   "source": [
    "# Download stock data from yfinance\n",
    "ticker = 'TSLA'\n",
    "data = yf.download(ticker, start='2020-01-01', end='2023-01-01')\n",
    "\n",
    "# View the first few rows of the data\n",
    "print(data.head())"
   ]
  },
  {
   "cell_type": "code",
   "execution_count": null,
   "metadata": {},
   "outputs": [],
   "source": [
    "# Calculate short-term and long-term moving averages\n",
    "data['Short_MA'] = data['Close'].rolling(window=10).mean()  # 10-day moving average\n",
    "data['Long_MA'] = data['Close'].rolling(window=50).mean()  # 50-day moving average\n",
    "\n",
    "# View the data with new columns\n",
    "print(data[['Close', 'Short_MA', 'Long_MA']].tail())"
   ]
  },
  {
   "cell_type": "code",
   "execution_count": 27,
   "metadata": {},
   "outputs": [
    {
     "name": "stdout",
     "output_type": "stream",
     "text": [
      "Price         Short_MA   Long_MA Signal\n",
      "Ticker                                 \n",
      "Date                                   \n",
      "2022-12-23  146.721001  187.7900     -1\n",
      "2022-12-27  140.849000  185.8722     -1\n",
      "2022-12-28  136.025000  183.7394     -1\n",
      "2022-12-29  132.527000  181.7720     -1\n",
      "2022-12-30  129.078000  179.7948     -1\n"
     ]
    }
   ],
   "source": [
    "# Create signals for Buy and Sell\n",
    "data['Signal'] = 0  # Default is 0, no position\n",
    "\n",
    "# Help me loop through dataframe to create signal column with 1 for Buy and -1 for Sell\n",
    "for i in range(10, len(data)):\n",
    "    if data['Short_MA'].iloc[i] > data['Long_MA'].iloc[i]:\n",
    "        data.loc[data.index[i], 'Signal'] = 1\n",
    "        # print(\"found buy\")\n",
    "    else:\n",
    "        data.loc[data.index[i], 'Signal'] = -1\n",
    "        # print(\"found sell\")\n",
    "\n",
    "# View the signals\n",
    "print(data[['Short_MA', 'Long_MA', 'Signal']].tail())"
   ]
  },
  {
   "cell_type": "code",
   "execution_count": null,
   "metadata": {},
   "outputs": [],
   "source": [
    "data[\"Short_MA\"][50]"
   ]
  },
  {
   "cell_type": "code",
   "execution_count": 28,
   "metadata": {},
   "outputs": [
    {
     "data": {
      "text/plain": [
       "array([ 0, -1,  1])"
      ]
     },
     "execution_count": 28,
     "metadata": {},
     "output_type": "execute_result"
    }
   ],
   "source": [
    "data[\"Signal\"].unique()"
   ]
  },
  {
   "cell_type": "code",
   "execution_count": null,
   "metadata": {},
   "outputs": [],
   "source": []
  }
 ],
 "metadata": {
  "kernelspec": {
   "display_name": "aiagent",
   "language": "python",
   "name": "python3"
  },
  "language_info": {
   "codemirror_mode": {
    "name": "ipython",
    "version": 3
   },
   "file_extension": ".py",
   "mimetype": "text/x-python",
   "name": "python",
   "nbconvert_exporter": "python",
   "pygments_lexer": "ipython3",
   "version": "3.13.1"
  }
 },
 "nbformat": 4,
 "nbformat_minor": 2
}
