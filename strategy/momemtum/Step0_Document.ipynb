{
 "cells": [
  {
   "cell_type": "markdown",
   "metadata": {},
   "source": [
    "## Evaluate Market Condition\n",
    "* Market Condition Status:\n",
    "  * Volatile (use the VIX)\n",
    "  * Rally (use the SP500 and Russell 2000) - 2% or more changes in index\n",
    "  * Selloff (use the SP500 and Russell 2000) - 2% or less changes in index\n",
    "  * Stable"
   ]
  },
  {
   "cell_type": "markdown",
   "metadata": {},
   "source": [
    "## Identify the stocks to trade\n",
    "* Evaluate stock history for previous 30 days\n",
    "* Find stocks with strong upward or downward pressure\n",
    "* Metrics used to identify stocks\n",
    "  * RSI (relative strength index)\n",
    "  * MACD (moving average convergence divergence)\n",
    "  * EOM (Ease of Movement)\n",
    "  * Stochastic Oscillator"
   ]
  },
  {
   "cell_type": "markdown",
   "metadata": {
    "vscode": {
     "languageId": "plaintext"
    }
   },
   "source": [
    "## Momemtum Metrics\n",
    "* VWAP\n",
    "* 1-minute bar\n",
    "* RSI"
   ]
  },
  {
   "cell_type": "markdown",
   "metadata": {
    "vscode": {
     "languageId": "plaintext"
    }
   },
   "source": [
    "## Market Entry\n",
    "* Enter the market at 9:45\n",
    "* Require minimum of  10 1-minute candles have been recorded in database\n"
   ]
  },
  {
   "cell_type": "markdown",
   "metadata": {
    "vscode": {
     "languageId": "plaintext"
    }
   },
   "source": [
    "## Market Exit\n",
    "* ATR"
   ]
  },
  {
   "cell_type": "markdown",
   "metadata": {},
   "source": []
  }
 ],
 "metadata": {
  "language_info": {
   "name": "python"
  }
 },
 "nbformat": 4,
 "nbformat_minor": 2
}
