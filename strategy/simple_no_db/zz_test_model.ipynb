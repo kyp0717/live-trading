{
 "cells": [
  {
   "cell_type": "markdown",
   "metadata": {},
   "source": []
  },
  {
   "cell_type": "code",
   "execution_count": null,
   "metadata": {},
   "outputs": [],
   "source": [
    "import minutebarxx as mb\n",
    "import modelxx as model\n",
    "import algoxx as ax\n",
    "\n",
    "# mb.paca_get_bars('iex', 'AAPL')\n",
    "\n",
    "# model.fit(symbol='AAPL', feature='c')\n",
    "# model.predict(symbol='AAPL')\n",
    "ax.run(symbol='AAPL')\n"
   ]
  },
  {
   "cell_type": "code",
   "execution_count": null,
   "metadata": {},
   "outputs": [],
   "source": [
    "import requests\n",
    "import os\n",
    "from dotenv import load_dotenv\n",
    "from time import sleep\n",
    "import logging\n",
    "from datetime import datetime, timedelta, timezone\n",
    "import urllib.parse\n",
    "import pandas as pd\n",
    "import json\n",
    "import pytz\n",
    "\n",
    "symbol = \"AAPL\"\n",
    "utc = pytz.utc\n",
    "est = pytz.timezone('US/Eastern')\n",
    "fmt = '%Y-%m-%d %H:%M:%S %Z%z'\n",
    "\n",
    "# Get current time in UTC\n",
    "winter = datetime(2025, 1, 23, 15, 0, 0, tzinfo=utc)\n",
    "now_utc = datetime.now(timezone.utc)\n",
    "print(now_utc.astimezone(est).strftime(fmt))\n",
    "# Calculate time 15 minutes ago\n",
    "fifteen_minutes_ago = now_utc - timedelta(minutes=15)\n",
    "fifteen_minutes_agox = winter - timedelta(minutes=15)\n",
    "fifteen_minutes_ago_iso = fifteen_minutes_agox.isoformat()  # Generates an ISO 8601/RFC 3339 compatible string\n",
    "\n",
    "url_encoded_timestamp = urllib.parse.quote(fifteen_minutes_ago_iso)\n",
    "# url_encoded_now = urllib.parse.quote(now_utc.isoformat())\n",
    "url_encoded_now = urllib.parse.quote(winter.isoformat())\n",
    "print(url_encoded_timestamp)\n",
    "\n",
    "\n",
    "urlsymbol = f\"?symbols={symbol}\"\n",
    "timeframe = \"&timeframe=1Min\"\n",
    "# start=\"&start=2024-01-03T00%3A00%3A00Z\"\n",
    "start = f\"&start={url_encoded_timestamp}\"\n",
    "# end=\"&end=2024-01-04T00%3A00%3A00Z\"\n",
    "end = f\"&end={url_encoded_now}\"\n",
    "limit=\"&limit=10\"\n",
    "feed=\"&feed=iex\"\n",
    "adjust=\"&adjustment=raw\"\n",
    "sort=\"&sort=asc\"\n",
    "endpoint = \"https://data.alpaca.markets/v2/stocks/bars\"\n",
    "url = endpoint + urlsymbol + timeframe + start + end + limit + feed + adjust + sort\n",
    "\n",
    "\n",
    "headers = {\n",
    "    \"accept\": \"application/json\",\n",
    "    \"APCA-API-KEY-ID\": os.getenv(\"APCA_API_KEY_ID\"),\n",
    "    \"APCA-API-SECRET-KEY\": os.getenv(\"APCA_API_SECRET_KEY\")\n",
    "}\n",
    "\n",
    "\n",
    "response = requests.get(url, headers=headers)\n",
    "data = response.json()\n",
    "# return data\n",
    "print(data)"
   ]
  },
  {
   "cell_type": "code",
   "execution_count": 14,
   "metadata": {},
   "outputs": [],
   "source": [
    "import numpy as np\n",
    "bars = data['bars']['AAPL']\n",
    "bars\n",
    "feat = np.array([bar['c'] for bar in bars])\n",
    "i= np.array([i for i,_ in enumerate(bars, start=1)])"
   ]
  },
  {
   "cell_type": "code",
   "execution_count": null,
   "metadata": {},
   "outputs": [],
   "source": [
    "i"
   ]
  },
  {
   "cell_type": "code",
   "execution_count": null,
   "metadata": {},
   "outputs": [],
   "source": []
  },
  {
   "cell_type": "code",
   "execution_count": null,
   "metadata": {},
   "outputs": [],
   "source": [
    "## get latest bar and load to table\n",
    "bb.paca_get_latest_bar(feed=\"iex\", symbol=\"AAPL\")\n",
    "\n",
    "## get latest bar and load to table\n",
    "bb.paca_get_latest_bar(feed=\"iex\", symbol=\"SPY\")"
   ]
  },
  {
   "cell_type": "code",
   "execution_count": null,
   "metadata": {},
   "outputs": [],
   "source": [
    "## Retrieve apple bar data from supabase database\n",
    "## Get SPY bar data from supbase database\n",
    "## Use these data to build metrics for the trade\n",
    "\n",
    "# Metric #1: Measure the velocity of Apple volume is increasing over the last 10 bar\n",
    "# Metric #2: Measure if prices are increasing\n",
    "# Metric #2: Measure if SPY is stable or rallying"
   ]
  },
  {
   "cell_type": "code",
   "execution_count": null,
   "metadata": {},
   "outputs": [],
   "source": [
    "\n",
    "import model as mm\n",
    "\n",
    "a = mm.linear('SPY', 'current')\n"
   ]
  },
  {
   "cell_type": "code",
   "execution_count": null,
   "metadata": {},
   "outputs": [],
   "source": [
    "a"
   ]
  },
  {
   "cell_type": "code",
   "execution_count": null,
   "metadata": {},
   "outputs": [],
   "source": [
    "## Enter Trade\n",
    "## If \n",
    "# 1. apple volume velocity is 20% or above (i.e 1.2)\n",
    "# 2. SPY is stable or rallying\n",
    "# 3. apple price is stable or increasing"
   ]
  },
  {
   "cell_type": "code",
   "execution_count": null,
   "metadata": {},
   "outputs": [],
   "source": [
    "import pytz\n",
    "from datetime import datetime\n",
    "\n",
    "est = pytz.timezone('US/Eastern')\n",
    "utc = pytz.utc\n",
    "fmt = '%Y-%m-%d %H:%M:%S %Z%z'\n",
    "\n",
    "winter = datetime(2025, 1, 23, 15, 0, 0, tzinfo=utc)\n",
    "summer = datetime(2024, 7, 24, 11, 0, 0, tzinfo=utc)\n",
    "\n",
    "print(winter.strftime(fmt))\n",
    "print(summer.strftime(fmt))\n",
    "\n",
    "print(winter.astimezone(est).strftime(fmt))\n",
    "print(summer.astimezone(est).strftime(fmt))"
   ]
  }
 ],
 "metadata": {
  "kernelspec": {
   "display_name": "aiagent",
   "language": "python",
   "name": "python3"
  },
  "language_info": {
   "codemirror_mode": {
    "name": "ipython",
    "version": 3
   },
   "file_extension": ".py",
   "mimetype": "text/x-python",
   "name": "python",
   "nbconvert_exporter": "python",
   "pygments_lexer": "ipython3",
   "version": "3.13.1"
  }
 },
 "nbformat": 4,
 "nbformat_minor": 2
}
