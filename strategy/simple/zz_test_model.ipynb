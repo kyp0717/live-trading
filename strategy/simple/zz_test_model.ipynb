{
 "cells": [
  {
   "cell_type": "markdown",
   "metadata": {},
   "source": [
    "## Strategy:\n",
    "- Check the sp500 to determine if market is stable.\n",
    "- If stable, enter long trade\n",
    "- If market rally and there is a 5% gain, close the position\n",
    "- Create 3% stop loss\n"
   ]
  },
  {
   "cell_type": "code",
   "execution_count": null,
   "metadata": {},
   "outputs": [],
   "source": [
    "## Get latest minutebar from alpaca using get_latest_bar function\n",
    "import minutebar as bb\n",
    "\n",
    "\n"
   ]
  },
  {
   "cell_type": "code",
   "execution_count": null,
   "metadata": {},
   "outputs": [],
   "source": [
    "## get latest bar and load to table\n",
    "bb.paca_get_latest_bar(feed=\"iex\", symbol=\"AAPL\")\n",
    "\n",
    "## get latest bar and load to table\n",
    "bb.paca_get_latest_bar(feed=\"iex\", symbol=\"SPY\")"
   ]
  },
  {
   "cell_type": "code",
   "execution_count": null,
   "metadata": {},
   "outputs": [],
   "source": [
    "## Retrieve apple bar data from supabase database\n",
    "## Get SPY bar data from supbase database\n",
    "## Use these data to build metrics for the trade\n",
    "\n",
    "# Metric #1: Measure the velocity of Apple volume is increasing over the last 10 bar\n",
    "# Metric #2: Measure if prices are increasing\n",
    "# Metric #2: Measure if SPY is stable or rallying"
   ]
  },
  {
   "cell_type": "code",
   "execution_count": null,
   "metadata": {},
   "outputs": [],
   "source": [
    "\n",
    "import model as mm\n",
    "\n",
    "a = mm.linear('SPY', 'current')\n"
   ]
  },
  {
   "cell_type": "code",
   "execution_count": null,
   "metadata": {},
   "outputs": [],
   "source": [
    "a"
   ]
  },
  {
   "cell_type": "code",
   "execution_count": null,
   "metadata": {},
   "outputs": [],
   "source": [
    "## Enter Trade\n",
    "## If \n",
    "# 1. apple volume velocity is 20% or above (i.e 1.2)\n",
    "# 2. SPY is stable or rallying\n",
    "# 3. apple price is stable or increasing"
   ]
  },
  {
   "cell_type": "code",
   "execution_count": null,
   "metadata": {},
   "outputs": [],
   "source": [
    "from alpaca.trading.client import TradingClient\n",
    "from dotenv import load_dotenv\n",
    "import os\n",
    "\n",
    "# Load environment variables from .env file\n",
    "load_dotenv()\n",
    "key= os.getenv(\"APCA_API_KEY_ID\")\n",
    "secret= os.getenv(\"APCA_API_SECRET_KEY\")\n",
    "print(key)\n",
    "print(secret)\n",
    "# setup clients\n",
    "trade_client = TradingClient(api_key=key, secret_key=secret, paper=True)\n",
    "\n",
    "# trade_client.get_all_positions()\n",
    "\n",
    "position = trade_client.get_open_position(\"AAPL\")"
   ]
  },
  {
   "cell_type": "code",
   "execution_count": 1,
   "metadata": {},
   "outputs": [
    {
     "name": "stderr",
     "output_type": "stream",
     "text": [
      "2025-01-23 12:37:32,898 - INFO - Algo: begins ...\n",
      "2025-01-23 12:37:32,899 - INFO - Algo: Initial loading bar data to supabase \n",
      "2025-01-23 12:37:33,244 - INFO - HTTP Request: HEAD https://pfyfckgzsbcdudmhqlgk.supabase.co/rest/v1/bar_realtime?select=%2A \"HTTP/2 200 OK\"\n",
      "2025-01-23 12:37:33,247 - INFO - Algo: number of bars - 22\n",
      "2025-01-23 12:37:33,248 - INFO - Algo: ---------------------------------------\n",
      "2025-01-23 12:37:33,248 - INFO - Algo: Initial data completed ... moving to predict\n",
      "2025-01-23 12:37:37,349 - INFO - Algo: {\"code\":40410000,\"message\":\"position does not exist\"}\n",
      "2025-01-23 12:37:37,349 - INFO - Algo: predict ...\n",
      "2025-01-23 12:37:37,350 - INFO - Model: fitting ...\n",
      "2025-01-23 12:37:37,350 - INFO - Fit: fetching bar data and load to supabase ...\n",
      "2025-01-23 12:37:37,360 - INFO - PACA: fetching bar data for UNH ...\n",
      "2025-01-23 12:37:37,467 - INFO - Supabase: load bar for UNH ...\n",
      "2025-01-23 12:37:37,681 - INFO - HTTP Request: GET https://pfyfckgzsbcdudmhqlgk.supabase.co/rest/v1/bar_realtime?select=%2A&symbol=eq.UNH&order=timestamp.desc&limit=1 \"HTTP/2 200 OK\"\n",
      "2025-01-23 12:37:37,800 - INFO - HTTP Request: POST https://pfyfckgzsbcdudmhqlgk.supabase.co/rest/v1/bar_realtime \"HTTP/2 201 Created\"\n",
      "2025-01-23 12:37:37,810 - INFO - PACA: fetching bar data for SPY ...\n",
      "2025-01-23 12:37:37,888 - INFO - Supabase: load bar for SPY ...\n",
      "2025-01-23 12:37:38,016 - INFO - HTTP Request: GET https://pfyfckgzsbcdudmhqlgk.supabase.co/rest/v1/bar_realtime?select=%2A&symbol=eq.SPY&order=timestamp.desc&limit=1 \"HTTP/2 200 OK\"\n",
      "2025-01-23 12:37:38,097 - INFO - HTTP Request: POST https://pfyfckgzsbcdudmhqlgk.supabase.co/rest/v1/bar_realtime \"HTTP/2 201 Created\"\n",
      "2025-01-23 12:37:38,222 - INFO - HTTP Request: GET https://pfyfckgzsbcdudmhqlgk.supabase.co/rest/v1/bar_realtime?select=%2A&symbol=eq.UNH&order=timestamp.desc&limit=6 \"HTTP/2 200 OK\"\n",
      "2025-01-23 12:37:38,223 - INFO - Model: not enough UNH bar for fitting ...\n",
      "2025-01-23 12:37:38,224 - INFO - Fit: fetching bar data and load to supabase ...\n",
      "2025-01-23 12:37:38,233 - INFO - PACA: fetching bar data for UNH ...\n",
      "2025-01-23 12:37:38,315 - INFO - Supabase: load bar for UNH ...\n",
      "2025-01-23 12:37:38,453 - INFO - HTTP Request: GET https://pfyfckgzsbcdudmhqlgk.supabase.co/rest/v1/bar_realtime?select=%2A&symbol=eq.UNH&order=timestamp.desc&limit=1 \"HTTP/2 200 OK\"\n",
      "2025-01-23 12:37:38,529 - INFO - HTTP Request: POST https://pfyfckgzsbcdudmhqlgk.supabase.co/rest/v1/bar_realtime \"HTTP/2 201 Created\"\n",
      "2025-01-23 12:37:38,539 - INFO - PACA: fetching bar data for SPY ...\n",
      "2025-01-23 12:37:38,612 - INFO - Supabase: load bar for SPY ...\n",
      "2025-01-23 12:37:38,976 - INFO - HTTP Request: GET https://pfyfckgzsbcdudmhqlgk.supabase.co/rest/v1/bar_realtime?select=%2A&symbol=eq.SPY&order=timestamp.desc&limit=1 \"HTTP/2 200 OK\"\n",
      "2025-01-23 12:37:39,088 - INFO - HTTP Request: POST https://pfyfckgzsbcdudmhqlgk.supabase.co/rest/v1/bar_realtime \"HTTP/2 201 Created\"\n",
      "2025-01-23 12:37:39,225 - INFO - HTTP Request: GET https://pfyfckgzsbcdudmhqlgk.supabase.co/rest/v1/bar_realtime?select=%2A&symbol=eq.UNH&order=timestamp.desc&limit=6 \"HTTP/2 200 OK\"\n",
      "2025-01-23 12:37:39,226 - INFO - Model: not enough UNH bar for fitting ...\n",
      "2025-01-23 12:37:39,227 - INFO - Fit: fetching bar data and load to supabase ...\n",
      "2025-01-23 12:37:39,234 - INFO - PACA: fetching bar data for SPY ...\n",
      "2025-01-23 12:37:39,306 - INFO - Supabase: load bar for SPY ...\n",
      "2025-01-23 12:37:39,437 - INFO - HTTP Request: GET https://pfyfckgzsbcdudmhqlgk.supabase.co/rest/v1/bar_realtime?select=%2A&symbol=eq.SPY&order=timestamp.desc&limit=1 \"HTTP/2 200 OK\"\n",
      "2025-01-23 12:37:39,514 - INFO - HTTP Request: POST https://pfyfckgzsbcdudmhqlgk.supabase.co/rest/v1/bar_realtime \"HTTP/2 201 Created\"\n",
      "2025-01-23 12:37:39,524 - INFO - PACA: fetching bar data for SPY ...\n",
      "2025-01-23 12:37:39,602 - INFO - Supabase: load bar for SPY ...\n",
      "2025-01-23 12:37:39,756 - INFO - HTTP Request: GET https://pfyfckgzsbcdudmhqlgk.supabase.co/rest/v1/bar_realtime?select=%2A&symbol=eq.SPY&order=timestamp.desc&limit=1 \"HTTP/2 200 OK\"\n",
      "2025-01-23 12:37:39,824 - INFO - HTTP Request: POST https://pfyfckgzsbcdudmhqlgk.supabase.co/rest/v1/bar_realtime \"HTTP/2 201 Created\"\n",
      "2025-01-23 12:37:39,976 - INFO - HTTP Request: GET https://pfyfckgzsbcdudmhqlgk.supabase.co/rest/v1/bar_realtime?select=%2A&symbol=eq.SPY&order=timestamp.desc&limit=6 \"HTTP/2 200 OK\"\n",
      "2025-01-23 12:37:39,978 - INFO - Model: not enough SPY bar for fitting ...\n",
      "2025-01-23 12:37:39,987 - INFO - Supabase: get indicators ...\n",
      "2025-01-23 12:37:40,104 - INFO - HTTP Request: GET https://pfyfckgzsbcdudmhqlgk.supabase.co/rest/v1/simple_model?select=slope&symbol=eq.UNH&feature=eq.current&order=timestamp.desc&limit=1 \"HTTP/2 200 OK\"\n"
     ]
    },
    {
     "name": "stdout",
     "output_type": "stream",
     "text": [
      "data=[] count=None\n"
     ]
    },
    {
     "ename": "IndexError",
     "evalue": "list index out of range",
     "output_type": "error",
     "traceback": [
      "\u001b[0;31m---------------------------------------------------------------------------\u001b[0m",
      "\u001b[0;31mIndexError\u001b[0m                                Traceback (most recent call last)",
      "Cell \u001b[0;32mIn[1], line 2\u001b[0m\n\u001b[1;32m      1\u001b[0m \u001b[38;5;28;01mimport\u001b[39;00m\u001b[38;5;250m \u001b[39m\u001b[38;5;21;01malgo\u001b[39;00m\u001b[38;5;250m \u001b[39m\u001b[38;5;28;01mas\u001b[39;00m\u001b[38;5;250m \u001b[39m\u001b[38;5;21;01maa\u001b[39;00m\n\u001b[0;32m----> 2\u001b[0m \u001b[43maa\u001b[49m\u001b[38;5;241;43m.\u001b[39;49m\u001b[43mrun\u001b[49m\u001b[43m(\u001b[49m\u001b[38;5;124;43m'\u001b[39;49m\u001b[38;5;124;43mUNH\u001b[39;49m\u001b[38;5;124;43m'\u001b[39;49m\u001b[43m)\u001b[49m\n",
      "File \u001b[0;32m~/work/aiagent_learn/strategy/simple/algo.py:108\u001b[0m, in \u001b[0;36mrun\u001b[0;34m(symbol)\u001b[0m\n\u001b[1;32m    105\u001b[0m     logging\u001b[38;5;241m.\u001b[39minfo(\u001b[38;5;124mf\u001b[39m\u001b[38;5;124m\"\u001b[39m\u001b[38;5;124mAlgo: \u001b[39m\u001b[38;5;132;01m{\u001b[39;00me\u001b[38;5;132;01m}\u001b[39;00m\u001b[38;5;124m\"\u001b[39m)\n\u001b[1;32m    107\u001b[0m logging\u001b[38;5;241m.\u001b[39minfo(\u001b[38;5;124mf\u001b[39m\u001b[38;5;124m\"\u001b[39m\u001b[38;5;124mAlgo: predict ...\u001b[39m\u001b[38;5;124m\"\u001b[39m)\n\u001b[0;32m--> 108\u001b[0m signal \u001b[38;5;241m=\u001b[39m \u001b[43mmod\u001b[49m\u001b[38;5;241;43m.\u001b[39;49m\u001b[43mpredict\u001b[49m\u001b[43m(\u001b[49m\u001b[43msymbol\u001b[49m\u001b[43m)\u001b[49m\n\u001b[1;32m    109\u001b[0m \u001b[38;5;28;01mif\u001b[39;00m p\u001b[38;5;241m==\u001b[39mPacaPosition\u001b[38;5;241m.\u001b[39mNonexist:\n\u001b[1;32m    110\u001b[0m     \u001b[38;5;28;01mif\u001b[39;00m signal \u001b[38;5;241m==\u001b[39m mod\u001b[38;5;241m.\u001b[39mSignalTrade\u001b[38;5;241m.\u001b[39mBuy:\n",
      "File \u001b[0;32m~/work/aiagent_learn/strategy/simple/model.py:91\u001b[0m, in \u001b[0;36mpredict\u001b[0;34m(symbol)\u001b[0m\n\u001b[1;32m     83\u001b[0m slope_price \u001b[38;5;241m=\u001b[39m supabase\u001b[38;5;241m.\u001b[39mtable(\u001b[38;5;124m\"\u001b[39m\u001b[38;5;124msimple_model\u001b[39m\u001b[38;5;124m\"\u001b[39m) \\\n\u001b[1;32m     84\u001b[0m                 \u001b[38;5;241m.\u001b[39mselect(\u001b[38;5;124m\"\u001b[39m\u001b[38;5;124mslope\u001b[39m\u001b[38;5;124m\"\u001b[39m) \\\n\u001b[1;32m     85\u001b[0m                 \u001b[38;5;241m.\u001b[39mfilter(\u001b[38;5;124m'\u001b[39m\u001b[38;5;124msymbol\u001b[39m\u001b[38;5;124m'\u001b[39m,\u001b[38;5;124m'\u001b[39m\u001b[38;5;124meq\u001b[39m\u001b[38;5;124m'\u001b[39m,symbol) \\\n\u001b[0;32m   (...)\u001b[0m\n\u001b[1;32m     88\u001b[0m                 \u001b[38;5;241m.\u001b[39mlimit(\u001b[38;5;241m1\u001b[39m) \\\n\u001b[1;32m     89\u001b[0m                \u001b[38;5;241m.\u001b[39mexecute()\n\u001b[1;32m     90\u001b[0m \u001b[38;5;28mprint\u001b[39m(slope_price)\n\u001b[0;32m---> 91\u001b[0m price_indicator \u001b[38;5;241m=\u001b[39m \u001b[43mslope_price\u001b[49m\u001b[38;5;241;43m.\u001b[39;49m\u001b[43mdata\u001b[49m\u001b[43m[\u001b[49m\u001b[38;5;241;43m0\u001b[39;49m\u001b[43m]\u001b[49m[\u001b[38;5;124m'\u001b[39m\u001b[38;5;124mslope\u001b[39m\u001b[38;5;124m'\u001b[39m]\n\u001b[1;32m     92\u001b[0m slope_volume \u001b[38;5;241m=\u001b[39m supabase\u001b[38;5;241m.\u001b[39mtable(\u001b[38;5;124m\"\u001b[39m\u001b[38;5;124msimple_model\u001b[39m\u001b[38;5;124m\"\u001b[39m) \\\n\u001b[1;32m     93\u001b[0m                 \u001b[38;5;241m.\u001b[39mselect(\u001b[38;5;124m\"\u001b[39m\u001b[38;5;124mslope\u001b[39m\u001b[38;5;124m\"\u001b[39m) \\\n\u001b[1;32m     94\u001b[0m                 \u001b[38;5;241m.\u001b[39mfilter(\u001b[38;5;124m'\u001b[39m\u001b[38;5;124msymbol\u001b[39m\u001b[38;5;124m'\u001b[39m,\u001b[38;5;124m'\u001b[39m\u001b[38;5;124meq\u001b[39m\u001b[38;5;124m'\u001b[39m,symbol) \\\n\u001b[0;32m   (...)\u001b[0m\n\u001b[1;32m     97\u001b[0m                 \u001b[38;5;241m.\u001b[39mlimit(\u001b[38;5;241m1\u001b[39m) \\\n\u001b[1;32m     98\u001b[0m                \u001b[38;5;241m.\u001b[39mexecute()\n\u001b[1;32m     99\u001b[0m \u001b[38;5;28mprint\u001b[39m(slope_volume)\n",
      "\u001b[0;31mIndexError\u001b[0m: list index out of range"
     ]
    }
   ],
   "source": [
    "import algo as aa\n",
    "aa.run('UNH')"
   ]
  },
  {
   "cell_type": "code",
   "execution_count": null,
   "metadata": {},
   "outputs": [],
   "source": [
    "import requests\n",
    "import os\n",
    "from supabase import create_client, Client\n",
    "from dotenv import load_dotenv\n",
    "from time import sleep\n",
    "# Load environment variables from .env file\n",
    "load_dotenv()"
   ]
  },
  {
   "cell_type": "code",
   "execution_count": 3,
   "metadata": {},
   "outputs": [],
   "source": [
    "supabase_key = os.getenv(\"SUPABASE_KEY\")\n",
    "supabase_url = os.getenv(\"SUPABASE_URL\")\n",
    "supabase: Client = create_client(supabase_url, supabase_key)\n",
    "bar_count = supabase.table(\"bar_realtime\") \\\n",
    "            .select(\"*\", count=\"exact\", head=True).execute()"
   ]
  }
 ],
 "metadata": {
  "kernelspec": {
   "display_name": "aiagent",
   "language": "python",
   "name": "python3"
  },
  "language_info": {
   "codemirror_mode": {
    "name": "ipython",
    "version": 3
   },
   "file_extension": ".py",
   "mimetype": "text/x-python",
   "name": "python",
   "nbconvert_exporter": "python",
   "pygments_lexer": "ipython3",
   "version": "3.13.1"
  }
 },
 "nbformat": 4,
 "nbformat_minor": 2
}
