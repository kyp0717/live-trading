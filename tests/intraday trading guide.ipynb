{
 "cells": [
  {
   "cell_type": "markdown",
   "metadata": {
    "vscode": {
     "languageId": "plaintext"
    }
   },
   "source": [
    "### Find asset (which stock to buy)\n",
    "### Use price and volume indicators for asset\n",
    "### Use price and volume indicator for SPY\n",
    "### Use price and volume indicator for sector\n",
    "### When to enter trade\n",
    "### When to exit trade"
   ]
  },
  {
   "cell_type": "markdown",
   "metadata": {},
   "source": [
    "### Find Asset\n",
    "1. Asset 5 SMA move above 20 SMA\n",
    "2. Asset daily volume has increase over the pass 3 days"
   ]
  },
  {
   "cell_type": "code",
   "execution_count": null,
   "metadata": {
    "vscode": {
     "languageId": "plaintext"
    }
   },
   "outputs": [],
   "source": []
  },
  {
   "cell_type": "code",
   "execution_count": null,
   "metadata": {
    "vscode": {
     "languageId": "plaintext"
    }
   },
   "outputs": [],
   "source": []
  }
 ],
 "metadata": {
  "language_info": {
   "name": "python"
  }
 },
 "nbformat": 4,
 "nbformat_minor": 2
}
