{
 "cells": [
  {
   "cell_type": "markdown",
   "metadata": {},
   "source": [
    "## Health Insurances\n",
    "* UnitedHealth Group (UNH): One of the largest insurance companies\n",
    "* Elevance Health, Inc. (ELV): A large health insurance company\n",
    "* The Cigna Group (CI): A large health insurance company\n",
    "* CVS Health Corporation (CVS): A large insurance company\n",
    "* Berkshire Hathaway Inc. (BRK.B)\n",
    "* Centene (CNC)\n",
    "* Humana Inc. (HUM)"
   ]
  },
  {
   "cell_type": "markdown",
   "metadata": {},
   "source": [
    "### Eval Markets using Benchmark\n",
    "* SP500\n",
    "* Nasdaq\n",
    "* Russell2000\n"
   ]
  },
  {
   "cell_type": "code",
   "execution_count": 1,
   "metadata": {},
   "outputs": [],
   "source": [
    "# some_file.py\n",
    "import sys\n",
    "# caution: path[0] is reserved for script path (or '' in REPL)\n",
    "sys.path.insert(1, '/home/kepl/work/live-trading/utils')"
   ]
  },
  {
   "cell_type": "code",
   "execution_count": null,
   "metadata": {},
   "outputs": [],
   "source": [
    "import benchmark as bm\n",
    "sp500 = bm.Benchmark('SPY')\n",
    "print(sp500.run())"
   ]
  },
  {
   "cell_type": "markdown",
   "metadata": {},
   "source": [
    "### Eval Sectors and sector leaders\n",
    "* Heatlhcare\n",
    "* Tech"
   ]
  },
  {
   "cell_type": "markdown",
   "metadata": {},
   "source": [
    "### Eval volumes"
   ]
  },
  {
   "cell_type": "markdown",
   "metadata": {},
   "source": [
    "* Don't know how to do this --- keep it simple\n"
   ]
  }
 ],
 "metadata": {
  "kernelspec": {
   "display_name": "aiagent",
   "language": "python",
   "name": "python3"
  },
  "language_info": {
   "codemirror_mode": {
    "name": "ipython",
    "version": 3
   },
   "file_extension": ".py",
   "mimetype": "text/x-python",
   "name": "python",
   "nbconvert_exporter": "python",
   "pygments_lexer": "ipython3",
   "version": "3.13.1"
  }
 },
 "nbformat": 4,
 "nbformat_minor": 2
}
