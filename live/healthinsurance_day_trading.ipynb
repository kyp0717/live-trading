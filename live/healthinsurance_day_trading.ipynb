{
 "cells": [
  {
   "cell_type": "markdown",
   "metadata": {},
   "source": [
    "## Health Insurances\n",
    "* UnitedHealth Group (UNH): One of the largest insurance companies\n",
    "* Elevance Health, Inc. (ELV): A large health insurance company\n",
    "* The Cigna Group (CI): A large health insurance company\n",
    "* CVS Health Corporation (CVS): A large insurance company\n",
    "* Berkshire Hathaway Inc. (BRK.B)\n",
    "* Centene (CNC)\n",
    "* Humana Inc. (HUM)"
   ]
  },
  {
   "cell_type": "markdown",
   "metadata": {},
   "source": [
    "### Eval Markets using Benchmark\n",
    "* SP500\n",
    "* Nasdaq\n",
    "* Russell2000\n"
   ]
  },
  {
   "cell_type": "code",
   "execution_count": 1,
   "metadata": {},
   "outputs": [],
   "source": [
    "# some_file.py\n",
    "import sys\n",
    "# caution: path[0] is reserved for script path (or '' in REPL)\n",
    "sys.path.insert(1, '/home/kepl/work/live-trading/utils')"
   ]
  },
  {
   "cell_type": "code",
   "execution_count": 3,
   "metadata": {},
   "outputs": [
    {
     "name": "stdout",
     "output_type": "stream",
     "text": [
      " ----------- SPY Trend --------  \n",
      "  trend type  = 'PCT_CHANGE'    \n",
      "  indicator   = 'EMA'    \n",
      "  direction   = 'UP'    \n",
      "  price       = 590.17\n",
      "  change      = 0.0001,\n",
      "  -----------------------------------------  \n"
     ]
    }
   ],
   "source": [
    "import benchmark as bm\n",
    "sp500 = bm.Benchmark('SPY', live=False)\n",
    "# print(sp500.run())\n",
    "a = sp500.run()\n"
   ]
  },
  {
   "cell_type": "code",
   "execution_count": 7,
   "metadata": {},
   "outputs": [],
   "source": [
    "type(a)\n",
    "b = a.__dict__"
   ]
  },
  {
   "cell_type": "code",
   "execution_count": 8,
   "metadata": {},
   "outputs": [
    {
     "data": {
      "text/plain": [
       "{'description': None,\n",
       " 'symbol': 'SPY',\n",
       " 'trendtype': <TrendType.PCT_CHANGE: 1>,\n",
       " 'indicator': <IndType.EMA: 1>,\n",
       " 'direction': <Direction.UP: 1>,\n",
       " 'price': 590.17,\n",
       " 'change': 0.00013385973533060742}"
      ]
     },
     "execution_count": 8,
     "metadata": {},
     "output_type": "execute_result"
    }
   ],
   "source": [
    "b"
   ]
  },
  {
   "cell_type": "markdown",
   "metadata": {},
   "source": [
    "### Eval Sectors and sector leaders\n",
    "* Heatlhcare\n",
    "* Tech"
   ]
  },
  {
   "cell_type": "markdown",
   "metadata": {},
   "source": [
    "### Eval volumes"
   ]
  },
  {
   "cell_type": "markdown",
   "metadata": {},
   "source": [
    "* Don't know how to do this --- keep it simple\n"
   ]
  }
 ],
 "metadata": {
  "kernelspec": {
   "display_name": "aiagent",
   "language": "python",
   "name": "python3"
  },
  "language_info": {
   "codemirror_mode": {
    "name": "ipython",
    "version": 3
   },
   "file_extension": ".py",
   "mimetype": "text/x-python",
   "name": "python",
   "nbconvert_exporter": "python",
   "pygments_lexer": "ipython3",
   "version": "3.13.1"
  }
 },
 "nbformat": 4,
 "nbformat_minor": 2
}
