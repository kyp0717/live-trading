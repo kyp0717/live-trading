{
 "cells": [
  {
   "cell_type": "markdown",
   "metadata": {},
   "source": [
    "## Health Insurances\n",
    "* UnitedHealth Group (UNH): One of the largest insurance companies\n",
    "* Elevance Health, Inc. (ELV): A large health insurance company\n",
    "* The Cigna Group (CI): A large health insurance company\n",
    "* CVS Health Corporation (CVS): A large insurance company\n",
    "* Berkshire Hathaway Inc. (BRK.B)\n",
    "* Centene (CNC)\n",
    "* Humana Inc. (HUM)"
   ]
  },
  {
   "cell_type": "markdown",
   "metadata": {},
   "source": [
    "### Eval Markets using Benchmark\n",
    "* SP500\n",
    "* Nasdaq\n",
    "* Russell2000\n"
   ]
  },
  {
   "cell_type": "code",
   "execution_count": 1,
   "metadata": {},
   "outputs": [],
   "source": [
    "# some_file.py\n",
    "import sys\n",
    "# caution: path[0] is reserved for script path (or '' in REPL)\n",
    "sys.path.insert(1, '/home/kepl/work/live-trading/utils')"
   ]
  },
  {
   "cell_type": "code",
   "execution_count": null,
   "metadata": {},
   "outputs": [],
   "source": [
    "import benchmark as bm\n",
    "sp500 = bm.Benchmark('SPY')\n",
    "print(sp500.run())"
   ]
  },
  {
   "cell_type": "markdown",
   "metadata": {},
   "source": [
    "### Eval Sectors and sector leaders\n",
    "* Heatlhcare\n",
    "* Tech"
   ]
  },
  {
   "cell_type": "markdown",
   "metadata": {},
   "source": [
    "### Eval volumes"
   ]
  },
  {
   "cell_type": "markdown",
   "metadata": {},
   "source": [
    "* Don't know how to do this --- keep it simple\n"
   ]
  },
  {
   "cell_type": "markdown",
   "metadata": {},
   "source": [
    "## Display to HTML"
   ]
  },
  {
   "cell_type": "code",
   "execution_count": 18,
   "metadata": {},
   "outputs": [],
   "source": [
    "## generate the html file\n",
    "from jinja2 import Environment\n",
    "from jinja2 import FileSystemLoader\n",
    "import os\n",
    "import datetime\n",
    "\n",
    "TEMPLATE_NAME = 'index.html'\n",
    "OUTPUT_FILE_NAME = 'test_output.html'\n",
    "env = Environment(loader=FileSystemLoader('templates'))\n",
    "\n",
    "def build_path(suffix):\n",
    "    # Build the full file path based on our current directory\n",
    "    current_directory = os.getcwd()\n",
    "    return os.path.join(current_directory, suffix)\n",
    "\n",
    "\n",
    "template = env.get_template(TEMPLATE_NAME)\n",
    "with open(build_path('public/%s' % OUTPUT_FILE_NAME), 'w') as html_file:\n",
    "    html = template.render(\n",
    "        utc_dt=datetime.datetime.now(datetime.timezone.utc)\n",
    "    )\n",
    "    # Write the rendered template to the html file\n",
    "    html_file.write(html)\n"
   ]
  },
  {
   "cell_type": "code",
   "execution_count": 19,
   "metadata": {},
   "outputs": [
    {
     "data": {
      "text/html": [
       "<!DOCTYPE html>\n",
       "<html lang=\"en\">\n",
       "<head>\n",
       "    <meta charset=\"UTF-8\">\n",
       "    <title> Index  - FlaskApp</title>\n",
       "    <link rel=\"stylesheet\" href=\"style.css\">\n",
       "    <style>\n",
       "    </style>\n",
       "</head>\n",
       "<body>\n",
       "    <nav>\n",
       "        <a href=\"#\">FlaskApp</a>\n",
       "        <a href=\"#\">About</a>\n",
       "    </nav>\n",
       "    <hr>\n",
       "    <div class=\"content\">\n",
       "        \n",
       "    <h1> Index </h1>\n",
       "    <h1>Hello World!</h1>\n",
       "    <h2>Welcome to FlaskApp!</h2>\n",
       "    <h3>2025-02-01 19:33:37.106299+00:00</h3>\n",
       "\n",
       "    </div>\n",
       "</body>\n",
       "</html>"
      ],
      "text/plain": [
       "<IPython.core.display.HTML object>"
      ]
     },
     "metadata": {},
     "output_type": "display_data"
    }
   ],
   "source": [
    "from IPython.display import HTML, display\n",
    "def css_styling():\n",
    "    styles = open(\"./style.css\", \"r\").read()\n",
    "    return HTML(styles)\n",
    "css_styling()\n",
    "display(HTML(filename=\"./public/test_output.html\"))"
   ]
  }
 ],
 "metadata": {
  "kernelspec": {
   "display_name": "aiagent",
   "language": "python",
   "name": "python3"
  },
  "language_info": {
   "codemirror_mode": {
    "name": "ipython",
    "version": 3
   },
   "file_extension": ".py",
   "mimetype": "text/x-python",
   "name": "python",
   "nbconvert_exporter": "python",
   "pygments_lexer": "ipython3",
   "version": "3.13.1"
  }
 },
 "nbformat": 4,
 "nbformat_minor": 2
}
