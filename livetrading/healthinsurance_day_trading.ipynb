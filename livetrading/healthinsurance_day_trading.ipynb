{
 "cells": [
  {
   "cell_type": "markdown",
   "metadata": {},
   "source": [
    "## Health Insurances\n",
    "* UnitedHealth Group (UNH): One of the largest insurance companies\n",
    "* Elevance Health, Inc. (ELV): A large health insurance company\n",
    "* The Cigna Group (CI): A large health insurance company\n",
    "* CVS Health Corporation (CVS): A large insurance company\n",
    "* Berkshire Hathaway Inc. (BRK.B)\n",
    "* Centene (CNC)\n",
    "* Humana Inc. (HUM)"
   ]
  },
  {
   "cell_type": "markdown",
   "metadata": {},
   "source": [
    "### Eval Markets using Benchmark\n",
    "* SP500\n",
    "* Nasdaq\n",
    "* Russell2000\n"
   ]
  },
  {
   "cell_type": "code",
   "execution_count": 1,
   "metadata": {},
   "outputs": [],
   "source": [
    "# some_file.py\n",
    "import sys\n",
    "# caution: path[0] is reserved for script path (or '' in REPL)\n",
    "sys.path.insert(1, '/home/kepl/work/live-trading/indicators')\n"
   ]
  },
  {
   "cell_type": "code",
   "execution_count": 2,
   "metadata": {},
   "outputs": [
    {
     "name": "stdout",
     "output_type": "stream",
     "text": [
      "         c        h        l   n        o                     t     v  \\\n",
      "0  602.710  602.710  602.710  16  602.710  2025-01-29T16:13:00Z   491   \n",
      "1  602.640  602.640  602.635  16  602.635  2025-01-29T16:14:00Z   318   \n",
      "2  602.510  602.650  602.510  27  602.650  2025-01-29T16:15:00Z  2318   \n",
      "3  602.660  602.660  602.500  18  602.500  2025-01-29T16:16:00Z   598   \n",
      "4  602.340  602.555  602.340  18  602.555  2025-01-29T16:17:00Z  1609   \n",
      "5  602.380  602.380  602.220  20  602.220  2025-01-29T16:18:00Z   895   \n",
      "6  602.455  602.560  602.365  23  602.365  2025-01-29T16:19:00Z  1746   \n",
      "7  602.465  602.465  602.465  13  602.465  2025-01-29T16:20:00Z   426   \n",
      "8  602.370  602.380  602.290  15  602.360  2025-01-29T16:21:00Z  1085   \n",
      "\n",
      "           vw  \n",
      "0  602.710000  \n",
      "1  602.637500  \n",
      "2  602.550708  \n",
      "3  602.580000  \n",
      "4  602.403955  \n",
      "5  602.305000  \n",
      "6  602.462456  \n",
      "7  602.465000  \n",
      "8  602.355241  \n",
      "None\n"
     ]
    },
    {
     "ename": "TypeError",
     "evalue": "'NoneType' object is not subscriptable",
     "output_type": "error",
     "traceback": [
      "\u001b[0;31m---------------------------------------------------------------------------\u001b[0m",
      "\u001b[0;31mTypeError\u001b[0m                                 Traceback (most recent call last)",
      "Cell \u001b[0;32mIn[2], line 3\u001b[0m\n\u001b[1;32m      1\u001b[0m \u001b[38;5;28;01mimport\u001b[39;00m\u001b[38;5;250m \u001b[39m\u001b[38;5;21;01mbenchmark\u001b[39;00m\u001b[38;5;250m \u001b[39m\u001b[38;5;28;01mas\u001b[39;00m\u001b[38;5;250m \u001b[39m\u001b[38;5;21;01mbm\u001b[39;00m\n\u001b[1;32m      2\u001b[0m sp500 \u001b[38;5;241m=\u001b[39m bm\u001b[38;5;241m.\u001b[39mBenchmark(\u001b[38;5;124m'\u001b[39m\u001b[38;5;124mSPY\u001b[39m\u001b[38;5;124m'\u001b[39m)\n\u001b[0;32m----> 3\u001b[0m \u001b[38;5;28mprint\u001b[39m(\u001b[43msp500\u001b[49m\u001b[38;5;241;43m.\u001b[39;49m\u001b[43mstatus\u001b[49m\u001b[43m(\u001b[49m\u001b[43m)\u001b[49m)\n",
      "File \u001b[0;32m~/work/live-trading/indicators/benchmark.py:126\u001b[0m, in \u001b[0;36mBenchmark.status\u001b[0;34m(self)\u001b[0m\n\u001b[1;32m    124\u001b[0m df \u001b[38;5;241m=\u001b[39m df\u001b[38;5;241m.\u001b[39mreset_index(drop\u001b[38;5;241m=\u001b[39m\u001b[38;5;28;01mTrue\u001b[39;00m, inplace\u001b[38;5;241m=\u001b[39m\u001b[38;5;28;01mTrue\u001b[39;00m)\n\u001b[1;32m    125\u001b[0m \u001b[38;5;28mprint\u001b[39m(df)\n\u001b[0;32m--> 126\u001b[0m df[\u001b[38;5;124m'\u001b[39m\u001b[38;5;124mema5\u001b[39m\u001b[38;5;124m'\u001b[39m] \u001b[38;5;241m=\u001b[39m ta\u001b[38;5;241m.\u001b[39mema(\u001b[43mdf\u001b[49m\u001b[43m[\u001b[49m\u001b[38;5;124;43m'\u001b[39;49m\u001b[38;5;124;43mc\u001b[39;49m\u001b[38;5;124;43m'\u001b[39;49m\u001b[43m]\u001b[49m, length\u001b[38;5;241m=\u001b[39m\u001b[38;5;241m5\u001b[39m)\n\u001b[1;32m    127\u001b[0m row \u001b[38;5;241m=\u001b[39m df\u001b[38;5;241m.\u001b[39mtail(\u001b[38;5;241m1\u001b[39m)\n\u001b[1;32m    128\u001b[0m \u001b[38;5;28mprint\u001b[39m(row\u001b[38;5;241m.\u001b[39mto_dict())\n",
      "\u001b[0;31mTypeError\u001b[0m: 'NoneType' object is not subscriptable"
     ]
    }
   ],
   "source": [
    "import benchmark as bm\n",
    "sp500 = bm.Benchmark('SPY')\n",
    "print(sp500.status())"
   ]
  },
  {
   "cell_type": "markdown",
   "metadata": {},
   "source": [
    "### Eval Sectors and sector leaders\n",
    "* Heatlhcare\n",
    "* Tech"
   ]
  },
  {
   "cell_type": "markdown",
   "metadata": {},
   "source": [
    "### Eval volumes"
   ]
  },
  {
   "cell_type": "markdown",
   "metadata": {},
   "source": [
    "* Don't know how to do this --- keep it simple\n"
   ]
  }
 ],
 "metadata": {
  "kernelspec": {
   "display_name": "aiagent",
   "language": "python",
   "name": "python3"
  },
  "language_info": {
   "codemirror_mode": {
    "name": "ipython",
    "version": 3
   },
   "file_extension": ".py",
   "mimetype": "text/x-python",
   "name": "python",
   "nbconvert_exporter": "python",
   "pygments_lexer": "ipython3",
   "version": "3.13.1"
  }
 },
 "nbformat": 4,
 "nbformat_minor": 2
}
