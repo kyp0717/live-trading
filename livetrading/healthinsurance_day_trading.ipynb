{
 "cells": [
  {
   "cell_type": "markdown",
   "metadata": {},
   "source": [
    "## Health Insurances\n",
    "* UnitedHealth Group (UNH): One of the largest insurance companies\n",
    "* Elevance Health, Inc. (ELV): A large health insurance company\n",
    "* The Cigna Group (CI): A large health insurance company\n",
    "* CVS Health Corporation (CVS): A large insurance company\n",
    "* Berkshire Hathaway Inc. (BRK.B)\n",
    "* Centene (CNC)\n",
    "* Humana Inc. (HUM)"
   ]
  },
  {
   "cell_type": "markdown",
   "metadata": {},
   "source": [
    "### Eval Markets using Benchmark\n",
    "* SP500\n",
    "* Nasdaq\n",
    "* Russell2000\n"
   ]
  },
  {
   "cell_type": "code",
   "execution_count": 1,
   "metadata": {},
   "outputs": [],
   "source": [
    "# some_file.py\n",
    "import sys\n",
    "# caution: path[0] is reserved for script path (or '' in REPL)\n",
    "sys.path.insert(1, '/home/kepl/work/live-trading/utils')"
   ]
  },
  {
   "cell_type": "code",
   "execution_count": null,
   "metadata": {},
   "outputs": [],
   "source": [
    "import benchmark as bm\n",
    "sp500 = bm.Benchmark('SPY')\n",
    "print(sp500.trend())"
   ]
  },
  {
   "cell_type": "markdown",
   "metadata": {},
   "source": [
    "### Eval Sectors and sector leaders\n",
    "* Heatlhcare\n",
    "* Tech"
   ]
  },
  {
   "cell_type": "markdown",
   "metadata": {},
   "source": []
  },
  {
   "cell_type": "markdown",
   "metadata": {},
   "source": []
  },
  {
   "cell_type": "markdown",
   "metadata": {},
   "source": [
    "### Eval volumes"
   ]
  },
  {
   "cell_type": "markdown",
   "metadata": {},
   "source": [
    "* Don't know how to do this --- keep it simple\n"
   ]
  },
  {
   "cell_type": "code",
   "execution_count": null,
   "metadata": {},
   "outputs": [],
   "source": [
    "est = pytz.timezone('US/Eastern')\n",
    "fmt = '%Y-%m-%d %H:%M:%S %Z%z'\n",
    "\n",
    "# Get current time in UTC\n",
    "now_utc = datetime.now(timezone.utc)\n",
    "print(f'current time - {now_utc.astimezone(est).strftime(fmt)}')\n",
    "# Calculate time 15 minutes ago\n",
    "past = now_utc - timedelta(minutes=1080)\n",
    "past_iso = past.isoformat()  # Generates an ISO 8601/RFC 3339 compatible string\n",
    "\n",
    "url_encoded_timestamp = urllib.parse.quote(past_iso)\n",
    "url_encoded_now = urllib.parse.quote(now_utc.isoformat())\n",
    "print(url_encoded_timestamp)\n",
    "print(f'past - {past.astimezone(est).strftime(fmt)}')"
   ]
  },
  {
   "cell_type": "code",
   "execution_count": null,
   "metadata": {},
   "outputs": [],
   "source": []
  }
 ],
 "metadata": {
  "kernelspec": {
   "display_name": "aiagent",
   "language": "python",
   "name": "python3"
  },
  "language_info": {
   "codemirror_mode": {
    "name": "ipython",
    "version": 3
   },
   "file_extension": ".py",
   "mimetype": "text/x-python",
   "name": "python",
   "nbconvert_exporter": "python",
   "pygments_lexer": "ipython3",
   "version": "3.13.1"
  }
 },
 "nbformat": 4,
 "nbformat_minor": 2
}
